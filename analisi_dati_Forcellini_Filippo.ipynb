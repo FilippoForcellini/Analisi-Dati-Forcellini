{
 "cells": [
  {
   "cell_type": "code",
   "execution_count": null,
   "metadata": {},
   "outputs": [
    {
     "ename": "ModuleNotFoundError",
     "evalue": "No module named 'numpy'",
     "output_type": "error",
     "traceback": [
      "\u001b[31m---------------------------------------------------------------------------\u001b[39m",
      "\u001b[31mModuleNotFoundError\u001b[39m                       Traceback (most recent call last)",
      "\u001b[36mCell\u001b[39m\u001b[36m \u001b[39m\u001b[32mIn[1]\u001b[39m\u001b[32m, line 2\u001b[39m\n\u001b[32m      1\u001b[39m \u001b[38;5;66;03m# Importazione delle librerie necessarie\u001b[39;00m\n\u001b[32m----> \u001b[39m\u001b[32m2\u001b[39m \u001b[38;5;28;01mimport\u001b[39;00m\u001b[38;5;250m \u001b[39m\u001b[34;01mnumpy\u001b[39;00m\u001b[38;5;250m \u001b[39m\u001b[38;5;28;01mas\u001b[39;00m\u001b[38;5;250m \u001b[39m\u001b[34;01mnp\u001b[39;00m\n\u001b[32m      3\u001b[39m \u001b[38;5;28;01mimport\u001b[39;00m\u001b[38;5;250m \u001b[39m\u001b[34;01mpandas\u001b[39;00m\u001b[38;5;250m \u001b[39m\u001b[38;5;28;01mas\u001b[39;00m\u001b[38;5;250m \u001b[39m\u001b[34;01mpd\u001b[39;00m\n\u001b[32m      4\u001b[39m \u001b[38;5;28;01mimport\u001b[39;00m\u001b[38;5;250m \u001b[39m\u001b[34;01mmatplotlib\u001b[39;00m\u001b[34;01m.\u001b[39;00m\u001b[34;01mpyplot\u001b[39;00m\u001b[38;5;250m \u001b[39m\u001b[38;5;28;01mas\u001b[39;00m\u001b[38;5;250m \u001b[39m\u001b[34;01mplt\u001b[39;00m\n",
      "\u001b[31mModuleNotFoundError\u001b[39m: No module named 'numpy'"
     ]
    }
   ],
   "source": [
    "# Importazione delle librerie necessarie\n",
    "import numpy as np\n",
    "import pandas as pd\n",
    "import matplotlib.pyplot as plt\n",
    "import seaborn as sns\n",
    "from sklearn.model_selection import train_test_split\n",
    "from sklearn.linear_model import LinearRegression\n",
    "from sklearn.metrics import mean_squared_error\n",
    "import statsmodels.api as sm\n",
    "from sklearn.preprocessing import PolynomialFeatures\n",
    "from sklearn.ensemble import RandomForestRegressor\n",
    "import tensorflow as tf\n",
    "from tensorflow import keras\n",
    "\n",
    "# Creazione di un dataset sintetico\n",
    "data = {\n",
    "    'Modello': ['FE 350', 'TE 300', '701 Enduro', '701 Supermoto', 'FC 450', 'TC 250', 'Svartpilen 701', 'Vitpilen 701', 'Norden 901', 'FS 450'],\n",
    "    'Anno': [2020, 2021, 2019, 2022, 2020, 2021, 2018, 2019, 2022, 2020],\n",
    "    'Cilindrata': [350, 300, 692.7, 692.7, 450, 250, 692.7, 692.7, 889, 450],\n",
    "    'Potenza': [45, 52, 74, 74, 63, 49, 74, 74, 105, 63],\n",
    "    'Tipo': ['Enduro', 'Enduro', 'Enduro', 'Supermoto', 'Motocross', 'Motocross', 'Naked', 'Naked', 'Adventure', 'Supermoto'],\n",
    "    'Prezzo': [9500, 10200, 11000, 11500, 9800, 9200, 10500, 10800, 14000, 10000]\n",
    "}\n",
    "\n",
    "df = pd.DataFrame(data)\n",
    "\n",
    "# Visualizzazione delle prime righe del dataset\n",
    "print(df.head())\n",
    "\n",
    "# Analisi delle statistiche descrittive del dataset\n",
    "print(df.describe())\n",
    "\n",
    "# Gestione dei valori mancanti\n",
    "print(df.isnull().sum())  # Verifica la presenza di valori mancanti\n",
    "# df = df.dropna()  # Rimuove le righe con valori mancanti\n",
    "\n",
    "# Gestione dei duplicati\n",
    "print(df.duplicated().sum())  # Verifica la presenza di duplicati\n",
    "# df = df.drop_duplicates()  # Rimuove le righe duplicate\n",
    "\n",
    "# Visualizzazione della distribuzione delle variabili numeriche\n",
    "numerical_cols = ['Anno', 'Cilindrata', 'Potenza', 'Prezzo']\n",
    "df[numerical_cols].hist(figsize=(10, 8))\n",
    "plt.show()\n",
    "\n",
    "# Visualizzazione della distribuzione delle variabili categoriche\n",
    "categorical_cols = ['Modello', 'Tipo']\n",
    "for col in categorical_cols:\n",
    "    sns.countplot(x=col, data=df)\n",
    "    plt.xticks(rotation=45)\n",
    "    plt.show()\n",
    "\n",
    "# Calcolo della matrice di correlazione\n",
    "numerical_df = df.select_dtypes(include=np.number)\n",
    "correlation_matrix = numerical_df.corr()\n",
    "sns.heatmap(correlation_matrix, annot=True)\n",
    "plt.show()\n",
    "\n",
    "# Preparazione dei dati per il machine learning\n",
    "X = df[['Anno', 'Cilindrata', 'Potenza']]\n",
    "y = df['Prezzo']\n",
    "\n",
    "# Divisione del dataset in set di allenamento e test\n",
    "X_train, X_test, y_train, y_test = train_test_split(X, y, test_size=0.2, random_state=42)"
   ]
  }
 ],
 "metadata": {
  "kernelspec": {
   "display_name": "Python 3",
   "language": "python",
   "name": "python3"
  },
  "language_info": {
   "codemirror_mode": {
    "name": "ipython",
    "version": 3
   },
   "file_extension": ".py",
   "mimetype": "text/x-python",
   "name": "python",
   "nbconvert_exporter": "python",
   "pygments_lexer": "ipython3",
   "version": "3.13.3"
  }
 },
 "nbformat": 4,
 "nbformat_minor": 2
}
